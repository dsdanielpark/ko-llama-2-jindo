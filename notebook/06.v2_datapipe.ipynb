{
 "cells": [
  {
   "cell_type": "code",
   "execution_count": 7,
   "metadata": {},
   "outputs": [],
   "source": [
    "import json\n",
    "\n",
    "def write_to_file(data, file_path):\n",
    "        with open(file_path, \"w\", encoding=\"utf-8\") as file:\n",
    "            json.dump(data, file, ensure_ascii=False, indent=4, separators=(',', ':'))\n",
    "\n",
    "def transform_and_save(data_path, save_path):\n",
    "    with open(data_path, 'r') as file:\n",
    "        data = json.load(file)[:100] # 100 for demo\n",
    "    text_only_dict_list = []\n",
    "    for d in data:\n",
    "        new_dict = {}\n",
    "        instruction = d[\"instruction\"]\n",
    "        input_text = d[\"input\"]\n",
    "        output_text = d[\"output\"]\n",
    "\n",
    "        new_dict[\"text\"] = (\n",
    "            \"Below is an instruction that describes a task, paired with an input that provides further context. Write a response that appropriately completes the request. \\n\"\n",
    "            \"### Instruction: {} \\n\\n\"\n",
    "            \"### Input: {} \\n\\n\"\n",
    "            \"### Response: {}\"\n",
    "        ).format(instruction, input_text, output_text)\n",
    "        text_only_dict_list.append(new_dict) \n",
    "\n",
    "    with open(save_path, \"w\", encoding=\"utf-8\") as file:\n",
    "            json.dump(text_only_dict_list, file, ensure_ascii=False, indent=4, separators=(',', ':'))\n"
   ]
  },
  {
   "cell_type": "code",
   "execution_count": 8,
   "metadata": {},
   "outputs": [],
   "source": [
    "transform_and_save(r\"C:\\Users\\parkm\\Desktop\\llm\\ko-alpaca-lingo\\notebook\\ko_shargpt_deepl_translate_cleaned_v1.json\", \"ko_shargpt_deepl_translate_cleaned_v2.json\")"
   ]
  },
  {
   "cell_type": "code",
   "execution_count": null,
   "metadata": {},
   "outputs": [],
   "source": []
  }
 ],
 "metadata": {
  "kernelspec": {
   "display_name": "miccai",
   "language": "python",
   "name": "miccai"
  },
  "language_info": {
   "codemirror_mode": {
    "name": "ipython",
    "version": 3
   },
   "file_extension": ".py",
   "mimetype": "text/x-python",
   "name": "python",
   "nbconvert_exporter": "python",
   "pygments_lexer": "ipython3",
   "version": "3.8.5"
  },
  "orig_nbformat": 4
 },
 "nbformat": 4,
 "nbformat_minor": 2
}
