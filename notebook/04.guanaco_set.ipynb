{
 "cells": [
  {
   "cell_type": "code",
   "execution_count": 31,
   "metadata": {},
   "outputs": [],
   "source": [
    "import json\n",
    "from random import shuffle\n",
    "\n",
    "def write_to_file(data, save_path):\n",
    "    with open(save_path, \"w\", encoding=\"utf-8\") as file:\n",
    "        for item in data:\n",
    "            json.dump(item, file, ensure_ascii=False)\n",
    "            file.write('\\n')\n",
    "\n",
    "def transform_and_save(data_path, train_path, eval_path, split_ratio=0.9):\n",
    "    guanaco_formatted = []\n",
    "    \n",
    "    with open(data_path, 'r') as file:\n",
    "        data = json.load(file)\n",
    "\n",
    "    for d in data:\n",
    "        instruction = d[\"instruction\"]\n",
    "        input_text = d[\"input\"]\n",
    "        output_text = d[\"output\"]\n",
    "\n",
    "        text_dict = dict()\n",
    "\n",
    "        text_dict['text'] = (\n",
    "            \"### Instruction: {}  ### Input: {}  ### Response: {}\").format(instruction, input_text, output_text)\n",
    "        guanaco_formatted.append(text_dict)\n",
    "\n",
    "    # Shuffle the data\n",
    "    shuffle(guanaco_formatted)\n",
    "\n",
    "    # Calculate the split index\n",
    "    split_index = int(len(guanaco_formatted) * split_ratio)\n",
    "\n",
    "    # Split the data into train and eval sets\n",
    "    train_data = guanaco_formatted[:split_index]\n",
    "    eval_data = guanaco_formatted[split_index:]\n",
    "\n",
    "    # Save the train data\n",
    "    write_to_file(train_data, train_path)\n",
    "\n",
    "    # Save the eval data\n",
    "    write_to_file(eval_data, eval_path)\n",
    "\n",
    "data_path = r'C:\\Users\\parkm\\Desktop\\llm\\ko-alpaca-lingo\\data\\dbdu\\ShareGPT-74k-ko\\ko_shargpt_deepl_translate_cleaned_v2.json'\n",
    "train_path = \"ko_shargpt_deepl_translate_cleaned_v3_train.jsonl\"\n",
    "eval_path = \"ko_shargpt_deepl_translate_cleaned_v3_eval.jsonl\"\n",
    "transform_and_save(data_path, train_path, eval_path)\n"
   ]
  },
  {
   "cell_type": "code",
   "execution_count": null,
   "metadata": {},
   "outputs": [],
   "source": []
  },
  {
   "cell_type": "code",
   "execution_count": null,
   "metadata": {},
   "outputs": [],
   "source": []
  }
 ],
 "metadata": {
  "kernelspec": {
   "display_name": "miccai",
   "language": "python",
   "name": "miccai"
  },
  "language_info": {
   "codemirror_mode": {
    "name": "ipython",
    "version": 3
   },
   "file_extension": ".py",
   "mimetype": "text/x-python",
   "name": "python",
   "nbconvert_exporter": "python",
   "pygments_lexer": "ipython3",
   "version": "3.8.5"
  },
  "orig_nbformat": 4
 },
 "nbformat": 4,
 "nbformat_minor": 2
}
